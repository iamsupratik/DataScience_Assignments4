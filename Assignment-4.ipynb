{
 "cells": [
  {
   "cell_type": "markdown",
   "metadata": {},
   "source": [
    "1.1 Write a Python Program(with class concepts) to find the area of the triangle using the below\n",
    "formula.\n",
    "area = (s*(s-a)*(s-b)*(s-c)) ** 0.5\n",
    "Function to take the length of the sides of triangle from user should be defined in the parent\n",
    "class and function to calculate the area should be defined in subclass."
   ]
  },
  {
   "cell_type": "code",
   "execution_count": 36,
   "metadata": {},
   "outputs": [
    {
     "name": "stdout",
     "output_type": "stream",
     "text": [
      "Enter side 1 : 10\n",
      "Enter side 2 : 12\n",
      "Enter side 3 : 16\n",
      "Side 1 is 10.0\n",
      "Side 2 is 12.0\n",
      "Side 3 is 16.0\n"
     ]
    },
    {
     "data": {
      "text/plain": [
       "59.924953066314536"
      ]
     },
     "execution_count": 36,
     "metadata": {},
     "output_type": "execute_result"
    }
   ],
   "source": [
    "#define parent class\n",
    "class Polygon:\n",
    "    def __init__(self, no_of_sides):\n",
    "        self.n = no_of_sides\n",
    "        self.sides = [0 for i in range(no_of_sides)]\n",
    "\n",
    "    def input_sides(self):\n",
    "        self.sides = [float(input(\"Enter side \"+str(i+1)+\" : \")) for i in range(self.n)]\n",
    "\n",
    "    def disp_sides(self):\n",
    "        for i in range(self.n):\n",
    "            print(\"Side\",i+1,\"is\",self.sides[i])\n",
    "#define subclass\n",
    "class Triangle(Polygon):\n",
    "    def __init__(self):\n",
    "        Polygon.__init__(self,3)\n",
    "\n",
    "    def find_area(self):\n",
    "        a, b, c = self.sides\n",
    "        # calculate the semi-perimeter\n",
    "        s = (a + b + c) / 2\n",
    "        #print('The area of the triangle is %0.2f' %area)\n",
    "        return (s*(s-a)*(s-b)*(s-c)) ** 0.5\n",
    "\n",
    "        \n",
    "t = Triangle()\n",
    "t.input_sides()\n",
    "t.disp_sides()\n",
    "t.find_area()"
   ]
  },
  {
   "cell_type": "markdown",
   "metadata": {},
   "source": [
    "1.2 Write a function filter_long_words() that takes a list of words and an integer n and returns\n",
    "the list of words that are longer than n."
   ]
  },
  {
   "cell_type": "code",
   "execution_count": 23,
   "metadata": {},
   "outputs": [
    {
     "name": "stdout",
     "output_type": "stream",
     "text": [
      "['Exercises', 'Backend']\n",
      "['PHP', 'Exercises', 'Backend']\n",
      "input lit is empty!!,please provide a list\n",
      "None\n",
      "Please input the list of words: google,apple,microsoft,asus,qualcom,dell,samsung\n",
      "Please enter a number:5\n"
     ]
    },
    {
     "data": {
      "text/plain": [
       "['google', 'microsoft', 'qualcom', 'samsung']"
      ]
     },
     "execution_count": 23,
     "metadata": {},
     "output_type": "execute_result"
    }
   ],
   "source": [
    "#function defination\n",
    "def filter_long_words(word_list,sample_length):\n",
    "    new_list = []\n",
    "    if(len(word_list) == 0):\n",
    "        print(\"input lit is empty!!,please provide a list\")\n",
    "        return None\n",
    "    for item in word_list:\n",
    "        if(len(item) > sample_length):\n",
    "            new_list.append(item)\n",
    "    return new_list\n",
    "\n",
    "#test function\n",
    "print(filter_long_words([\"PHP\", \"Exercises\", \"Backend\"],4))\n",
    "print(filter_long_words([\"PHP\", \"Exercises\", \"Backend\"],0))\n",
    "print(filter_long_words([],0))\n",
    "#please enter a list of words ',' separated\n",
    "word_list = input(\"Please input the list of words: \").split(',')\n",
    "length = int(input(\"Please enter a number:\"))\n",
    "filter_long_words(word_list,length)"
   ]
  },
  {
   "cell_type": "markdown",
   "metadata": {},
   "source": [
    "2.1 Write a Python program using function concept that maps list of words into a list of integers\n",
    "representing the lengths of the corresponding words​ .\n",
    "Hint: ​ If a list [ ab,cde,erty] is passed on to the python function output should come as [2,3,4]\n",
    "Here 2,3 and 4 are the lengths of the words in the list."
   ]
  },
  {
   "cell_type": "code",
   "execution_count": 39,
   "metadata": {},
   "outputs": [
    {
     "name": "stdout",
     "output_type": "stream",
     "text": [
      "[3, 9, 7]\n",
      "Please input the list of words: cocacola,pepsi,fanta,limca,thumbsup,mountainduw,sevenup,mirinda\n"
     ]
    },
    {
     "data": {
      "text/plain": [
       "[8, 5, 5, 5, 8, 11, 7, 7]"
      ]
     },
     "execution_count": 39,
     "metadata": {},
     "output_type": "execute_result"
    }
   ],
   "source": [
    "#defination of the funcion\n",
    "def map_string_to_int_length(word_list):\n",
    "    new_list = []\n",
    "    if(len(word_list) == 0):\n",
    "        print(\"input lit is empty!!,please provide a list\")\n",
    "        return None\n",
    "    for item in word_list:\n",
    "        new_list.append(len(item))\n",
    "    return new_list\n",
    "\n",
    "#test the function\n",
    "print(map_string_to_length([\"PHP\", \"Exercises\", \"Backend\"]))\n",
    "#please enter a list of words ',' separated\n",
    "input_list = input(\"Please input the list of words: \").split(',')\n",
    "map_string_to_int_length(input_list)"
   ]
  },
  {
   "cell_type": "markdown",
   "metadata": {},
   "source": [
    "2.2 Write a Python function which takes a character (i.e. a string of length 1) and returns True if\n",
    "it is a vowel, False otherwise."
   ]
  },
  {
   "cell_type": "code",
   "execution_count": 38,
   "metadata": {},
   "outputs": [
    {
     "name": "stdout",
     "output_type": "stream",
     "text": [
      "Enter a character to test:I\n",
      "True\n",
      "True\n"
     ]
    }
   ],
   "source": [
    "#defination of the funcion\n",
    "def is_vowel(input_ch):\n",
    "    if(len(input_ch) == 0):\n",
    "        print(\"Empty argument!! Plese input a character!!\")\n",
    "        return None\n",
    "    if(len(input_ch) > 1):\n",
    "        print(\"Plese input a character!!\")\n",
    "        return None\n",
    "    vowels = ('a', 'e', 'i', 'o','u','A','E','I','O','U')\n",
    "    return input_ch in vowels\n",
    "\n",
    "#test the function\n",
    "ch = input(\"Enter a character to test:\")\n",
    "print(is_vowel(ch))\n",
    "print (is_vowel('a'))"
   ]
  }
 ],
 "metadata": {
  "kernelspec": {
   "display_name": "Python 3",
   "language": "python",
   "name": "python3"
  },
  "language_info": {
   "codemirror_mode": {
    "name": "ipython",
    "version": 3
   },
   "file_extension": ".py",
   "mimetype": "text/x-python",
   "name": "python",
   "nbconvert_exporter": "python",
   "pygments_lexer": "ipython3",
   "version": "3.6.5"
  }
 },
 "nbformat": 4,
 "nbformat_minor": 2
}
